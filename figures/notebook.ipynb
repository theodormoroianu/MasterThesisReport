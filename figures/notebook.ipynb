{
 "cells": [
  {
   "cell_type": "markdown",
   "metadata": {
    "vscode": {
     "languageId": "plaintext"
    }
   },
   "source": [
    "# Notebook for Generating Plots and Figures"
   ]
  },
  {
   "cell_type": "code",
   "execution_count": 10,
   "metadata": {},
   "outputs": [
    {
     "name": "stdout",
     "output_type": "stream",
     "text": [
      "Loadede 115 rows.\n"
     ]
    },
    {
     "data": {
      "text/html": [
       "<div>\n",
       "<style scoped>\n",
       "    .dataframe tbody tr th:only-of-type {\n",
       "        vertical-align: middle;\n",
       "    }\n",
       "\n",
       "    .dataframe tbody tr th {\n",
       "        vertical-align: top;\n",
       "    }\n",
       "\n",
       "    .dataframe thead th {\n",
       "        text-align: right;\n",
       "    }\n",
       "</style>\n",
       "<table border=\"1\" class=\"dataframe\">\n",
       "  <thead>\n",
       "    <tr style=\"text-align: right;\">\n",
       "      <th></th>\n",
       "      <th>Bug ID</th>\n",
       "      <th>Reported In</th>\n",
       "      <th>URL</th>\n",
       "      <th>Database</th>\n",
       "      <th>Version / Commit</th>\n",
       "      <th>R Uncommitted</th>\n",
       "      <th>R Committed</th>\n",
       "      <th>Repeatable R</th>\n",
       "      <th>Serializable</th>\n",
       "      <th>Pessimistic</th>\n",
       "      <th>Optimistic</th>\n",
       "      <th>Interesting</th>\n",
       "      <th>Bug summary</th>\n",
       "      <th>Transaction Bug</th>\n",
       "      <th>Bug type</th>\n",
       "      <th>Deterministic</th>\n",
       "      <th># Connections</th>\n",
       "      <th>Root cause</th>\n",
       "      <th>Issue closed</th>\n",
       "    </tr>\n",
       "  </thead>\n",
       "  <tbody>\n",
       "    <tr>\n",
       "      <th>0</th>\n",
       "      <td>MDEV-14868</td>\n",
       "      <td>ICSE2024</td>\n",
       "      <td>https://jira.mariadb.org/browse/MDEV-14868</td>\n",
       "      <td>MariaDB</td>\n",
       "      <td>10.2.12-encrypted-logs</td>\n",
       "      <td>True</td>\n",
       "      <td>True</td>\n",
       "      <td>True</td>\n",
       "      <td>True</td>\n",
       "      <td>False</td>\n",
       "      <td>False</td>\n",
       "      <td>False</td>\n",
       "      <td>Rollbacks make the server crash.</td>\n",
       "      <td>True</td>\n",
       "      <td>Crash</td>\n",
       "      <td>True</td>\n",
       "      <td>1</td>\n",
       "      <td>NaN</td>\n",
       "      <td>True</td>\n",
       "    </tr>\n",
       "    <tr>\n",
       "      <th>1</th>\n",
       "      <td>MDEV-16024</td>\n",
       "      <td>ICSE2024</td>\n",
       "      <td>https://jira.mariadb.org/browse/MDEV-16024</td>\n",
       "      <td>MariaDB</td>\n",
       "      <td>10.3.6</td>\n",
       "      <td>True</td>\n",
       "      <td>True</td>\n",
       "      <td>True</td>\n",
       "      <td>True</td>\n",
       "      <td>False</td>\n",
       "      <td>False</td>\n",
       "      <td>False</td>\n",
       "      <td>The begin_timestamp of a transaction is larger...</td>\n",
       "      <td>True</td>\n",
       "      <td>Incorrect database state</td>\n",
       "      <td>True</td>\n",
       "      <td>1</td>\n",
       "      <td>NaN</td>\n",
       "      <td>True</td>\n",
       "    </tr>\n",
       "    <tr>\n",
       "      <th>2</th>\n",
       "      <td>MDEV-16675</td>\n",
       "      <td>ICSE2024</td>\n",
       "      <td>https://jira.mariadb.org/browse/MDEV-16675</td>\n",
       "      <td>MariaDB</td>\n",
       "      <td>10.3.8-debug (patched)</td>\n",
       "      <td>True</td>\n",
       "      <td>True</td>\n",
       "      <td>True</td>\n",
       "      <td>True</td>\n",
       "      <td>False</td>\n",
       "      <td>False</td>\n",
       "      <td>False</td>\n",
       "      <td>In this test, there is no conflict, and the DE...</td>\n",
       "      <td>True</td>\n",
       "      <td>Low performance</td>\n",
       "      <td>True</td>\n",
       "      <td>1</td>\n",
       "      <td>NaN</td>\n",
       "      <td>True</td>\n",
       "    </tr>\n",
       "    <tr>\n",
       "      <th>3</th>\n",
       "      <td>MDEV-18044</td>\n",
       "      <td>ICSE2024</td>\n",
       "      <td>https://jira.mariadb.org/browse/MDEV-18044</td>\n",
       "      <td>MariaDB</td>\n",
       "      <td>10.3.8-debug</td>\n",
       "      <td>True</td>\n",
       "      <td>True</td>\n",
       "      <td>True</td>\n",
       "      <td>True</td>\n",
       "      <td>False</td>\n",
       "      <td>False</td>\n",
       "      <td>False</td>\n",
       "      <td>Adding an IF statement unecessarily adds a row...</td>\n",
       "      <td>True</td>\n",
       "      <td>Unnecessary locking</td>\n",
       "      <td>True</td>\n",
       "      <td>2</td>\n",
       "      <td>NaN</td>\n",
       "      <td>False</td>\n",
       "    </tr>\n",
       "    <tr>\n",
       "      <th>4</th>\n",
       "      <td>MDEV-19535</td>\n",
       "      <td>ICSE2024</td>\n",
       "      <td>https://jira.mariadb.org/browse/MDEV-19535</td>\n",
       "      <td>MariaDB</td>\n",
       "      <td>10.4.5</td>\n",
       "      <td>False</td>\n",
       "      <td>False</td>\n",
       "      <td>True</td>\n",
       "      <td>True</td>\n",
       "      <td>False</td>\n",
       "      <td>False</td>\n",
       "      <td>True</td>\n",
       "      <td>Setting sql_mode='ORACLE' makes MariaDB miss s...</td>\n",
       "      <td>True</td>\n",
       "      <td>Missing blocking</td>\n",
       "      <td>True</td>\n",
       "      <td>2</td>\n",
       "      <td>NaN</td>\n",
       "      <td>True</td>\n",
       "    </tr>\n",
       "  </tbody>\n",
       "</table>\n",
       "</div>"
      ],
      "text/plain": [
       "       Bug ID Reported In                                         URL  \\\n",
       "0  MDEV-14868    ICSE2024  https://jira.mariadb.org/browse/MDEV-14868   \n",
       "1  MDEV-16024    ICSE2024  https://jira.mariadb.org/browse/MDEV-16024   \n",
       "2  MDEV-16675    ICSE2024  https://jira.mariadb.org/browse/MDEV-16675   \n",
       "3  MDEV-18044    ICSE2024  https://jira.mariadb.org/browse/MDEV-18044   \n",
       "4  MDEV-19535    ICSE2024  https://jira.mariadb.org/browse/MDEV-19535   \n",
       "\n",
       "  Database        Version / Commit  R Uncommitted  R Committed  Repeatable R  \\\n",
       "0  MariaDB  10.2.12-encrypted-logs           True         True          True   \n",
       "1  MariaDB                  10.3.6           True         True          True   \n",
       "2  MariaDB  10.3.8-debug (patched)           True         True          True   \n",
       "3  MariaDB            10.3.8-debug           True         True          True   \n",
       "4  MariaDB                  10.4.5          False        False          True   \n",
       "\n",
       "   Serializable  Pessimistic  Optimistic  Interesting  \\\n",
       "0          True        False       False        False   \n",
       "1          True        False       False        False   \n",
       "2          True        False       False        False   \n",
       "3          True        False       False        False   \n",
       "4          True        False       False         True   \n",
       "\n",
       "                                         Bug summary  Transaction Bug  \\\n",
       "0                   Rollbacks make the server crash.             True   \n",
       "1  The begin_timestamp of a transaction is larger...             True   \n",
       "2  In this test, there is no conflict, and the DE...             True   \n",
       "3  Adding an IF statement unecessarily adds a row...             True   \n",
       "4  Setting sql_mode='ORACLE' makes MariaDB miss s...             True   \n",
       "\n",
       "                   Bug type  Deterministic  # Connections Root cause  \\\n",
       "0                     Crash           True              1        NaN   \n",
       "1  Incorrect database state           True              1        NaN   \n",
       "2           Low performance           True              1        NaN   \n",
       "3       Unnecessary locking           True              2        NaN   \n",
       "4          Missing blocking           True              2        NaN   \n",
       "\n",
       "   Issue closed  \n",
       "0          True  \n",
       "1          True  \n",
       "2          True  \n",
       "3         False  \n",
       "4          True  "
      ]
     },
     "execution_count": 10,
     "metadata": {},
     "output_type": "execute_result"
    }
   ],
   "source": [
    "import pandas as pd\n",
    "import matplotlib.pyplot as plt\n",
    "\n",
    "df = pd.read_csv('bugs.csv')\n",
    "print(f\"Loadede {len(df)} rows.\")\n",
    "df.head()"
   ]
  },
  {
   "cell_type": "code",
   "execution_count": 43,
   "metadata": {},
   "outputs": [],
   "source": [
    "paper_to_title = {\n",
    "    \"Other\": \"Other\",\n",
    "    \"ASE2022\": \"DT2 (ASE 2022)\",\n",
    "    \"ICSE2024\": \"Survey Paper (ICSE 2024)\",\n",
    "    \"OSDI2023\": \"TxCheck (OSDI 2023)\",\n",
    "}"
   ]
  },
  {
   "cell_type": "code",
   "execution_count": 53,
   "metadata": {},
   "outputs": [
    {
     "data": {
      "image/png": "[encoded data removed]",
      "text/plain": [
       "<Figure size 600x500 with 1 Axes>"
      ]
     },
     "metadata": {},
     "output_type": "display_data"
    }
   ],
   "source": [
    "# Group by 'Database' and 'Reported In' and count the number of bugs\n",
    "grouped = df.groupby(['Database', 'Reported In']).size().unstack().fillna(0)\n",
    "\n",
    "# Rename the 'Reported In' field\n",
    "grouped.columns = grouped.columns.map(lambda s: paper_to_title[s])\n",
    "\n",
    "# Plot the data\n",
    "ax = grouped.plot(kind='bar', stacked=True, ylabel='Number of Bugs', xlabel='Database Management System', figsize=(6, 5))\n",
    "\n",
    "# Annotate the bars with the number of bugs\n",
    "for p in ax.patches:\n",
    "    width, height = p.get_width(), p.get_height()\n",
    "    if height == 0:\n",
    "        continue\n",
    "    x, y = p.get_xy()\n",
    "    new_x = x + width / 2\n",
    "    new_y = y + height / 2 - 1\n",
    "    if height == 1:\n",
    "        new_y += 2\n",
    "    ax.annotate(f'{height:.0f}', (new_x, new_y), ha='center')\n",
    "ax.set_xticklabels(grouped.index, rotation=0, ha='center')\n",
    "plt.legend(title='Bug Taken From')\n",
    "\n",
    "plt.savefig('../assets/bug_replication_bugs_by_dbms_and_paper.png', dpi=300, bbox_inches='tight')"
   ]
  },
  {
   "cell_type": "code",
   "execution_count": 12,
   "metadata": {},
   "outputs": [
    {
     "data": {
      "text/plain": [
       "<Axes: xlabel='Database'>"
      ]
     },
     "execution_count": 12,
     "metadata": {},
     "output_type": "execute_result"
    },
    {
     "data": {
      "image/png": "[encoded data removed]",
      "text/plain": [
       "<Figure size 640x480 with 1 Axes>"
      ]
     },
     "metadata": {},
     "output_type": "display_data"
    }
   ],
   "source": [
    "# Generate a plot of the number of bugs per database system\n",
    "# Add grid lines and the actual values to each bar\n",
    "df['Database'].value_counts().plot(kind='bar', grid=True)"
   ]
  },
  {
   "cell_type": "code",
   "execution_count": null,
   "metadata": {},
   "outputs": [],
   "source": []
  }
 ],
 "metadata": {
  "kernelspec": {
   "display_name": "Python 3",
   "language": "python",
   "name": "python3"
  },
  "language_info": {
   "codemirror_mode": {
    "name": "ipython",
    "version": 3
   },
   "file_extension": ".py",
   "mimetype": "text/x-python",
   "name": "python",
   "nbconvert_exporter": "python",
   "pygments_lexer": "ipython3",
   "version": "3.12.7"
  }
 },
 "nbformat": 4,
 "nbformat_minor": 2
}
